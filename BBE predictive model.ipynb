{
 "cells": [
  {
   "cell_type": "code",
   "execution_count": 1,
   "id": "71428b89",
   "metadata": {},
   "outputs": [
    {
     "name": "stdout",
     "output_type": "stream",
     "text": [
      "Collecting snowflake-snowpark-python[pandas]\n",
      "  Downloading snowflake_snowpark_python-1.22.1-py3-none-any.whl (1.3 MB)\n",
      "                                              0.0/1.3 MB ? eta -:--:--\n",
      "     -------                                  0.3/1.3 MB 5.2 MB/s eta 0:00:01\n",
      "     ----------------------                   0.7/1.3 MB 9.5 MB/s eta 0:00:01\n",
      "     ---------------------------------------  1.3/1.3 MB 10.4 MB/s eta 0:00:01\n",
      "     ---------------------------------------- 1.3/1.3 MB 9.3 MB/s eta 0:00:00\n",
      "Requirement already satisfied: setuptools>=40.6.0 in c:\\users\\banga\\anaconda3\\lib\\site-packages (from snowflake-snowpark-python[pandas]) (67.8.0)\n",
      "Requirement already satisfied: wheel in c:\\users\\banga\\anaconda3\\lib\\site-packages (from snowflake-snowpark-python[pandas]) (0.38.4)\n",
      "Collecting snowflake-connector-python<4.0.0,>=3.10.0 (from snowflake-snowpark-python[pandas])\n",
      "  Downloading snowflake_connector_python-3.12.2-cp311-cp311-win_amd64.whl (915 kB)\n",
      "                                              0.0/915.5 kB ? eta -:--:--\n",
      "     --------------------                  512.0/915.5 kB 10.7 MB/s eta 0:00:01\n",
      "     ------------------------------------- 915.5/915.5 kB 11.5 MB/s eta 0:00:00\n",
      "Requirement already satisfied: typing-extensions<5.0.0,>=4.1.0 in c:\\users\\banga\\anaconda3\\lib\\site-packages (from snowflake-snowpark-python[pandas]) (4.6.3)\n",
      "Requirement already satisfied: pyyaml in c:\\users\\banga\\anaconda3\\lib\\site-packages (from snowflake-snowpark-python[pandas]) (6.0)\n",
      "Requirement already satisfied: cloudpickle==2.2.1 in c:\\users\\banga\\anaconda3\\lib\\site-packages (from snowflake-snowpark-python[pandas]) (2.2.1)\n",
      "Collecting asn1crypto<2.0.0,>0.24.0 (from snowflake-connector-python<4.0.0,>=3.10.0->snowflake-snowpark-python[pandas])\n",
      "  Downloading asn1crypto-1.5.1-py2.py3-none-any.whl (105 kB)\n",
      "                                              0.0/105.0 kB ? eta -:--:--\n",
      "     -------------------------------------- 105.0/105.0 kB 5.9 MB/s eta 0:00:00\n",
      "Requirement already satisfied: cffi<2.0.0,>=1.9 in c:\\users\\banga\\anaconda3\\lib\\site-packages (from snowflake-connector-python<4.0.0,>=3.10.0->snowflake-snowpark-python[pandas]) (1.15.1)\n",
      "Requirement already satisfied: cryptography>=3.1.0 in c:\\users\\banga\\anaconda3\\lib\\site-packages (from snowflake-connector-python<4.0.0,>=3.10.0->snowflake-snowpark-python[pandas]) (39.0.1)\n",
      "Requirement already satisfied: pyOpenSSL<25.0.0,>=16.2.0 in c:\\users\\banga\\anaconda3\\lib\\site-packages (from snowflake-connector-python<4.0.0,>=3.10.0->snowflake-snowpark-python[pandas]) (23.0.0)\n",
      "Requirement already satisfied: pyjwt<3.0.0 in c:\\users\\banga\\anaconda3\\lib\\site-packages (from snowflake-connector-python<4.0.0,>=3.10.0->snowflake-snowpark-python[pandas]) (2.4.0)\n",
      "Requirement already satisfied: pytz in c:\\users\\banga\\anaconda3\\lib\\site-packages (from snowflake-connector-python<4.0.0,>=3.10.0->snowflake-snowpark-python[pandas]) (2022.7)\n",
      "Requirement already satisfied: requests<3.0.0 in c:\\users\\banga\\anaconda3\\lib\\site-packages (from snowflake-connector-python<4.0.0,>=3.10.0->snowflake-snowpark-python[pandas]) (2.29.0)\n",
      "Requirement already satisfied: packaging in c:\\users\\banga\\anaconda3\\lib\\site-packages (from snowflake-connector-python<4.0.0,>=3.10.0->snowflake-snowpark-python[pandas]) (23.0)\n",
      "Requirement already satisfied: charset-normalizer<4,>=2 in c:\\users\\banga\\anaconda3\\lib\\site-packages (from snowflake-connector-python<4.0.0,>=3.10.0->snowflake-snowpark-python[pandas]) (2.0.4)\n",
      "Requirement already satisfied: idna<4,>=2.5 in c:\\users\\banga\\anaconda3\\lib\\site-packages (from snowflake-connector-python<4.0.0,>=3.10.0->snowflake-snowpark-python[pandas]) (3.4)\n",
      "Requirement already satisfied: certifi>=2017.4.17 in c:\\users\\banga\\anaconda3\\lib\\site-packages (from snowflake-connector-python<4.0.0,>=3.10.0->snowflake-snowpark-python[pandas]) (2023.5.7)\n",
      "Requirement already satisfied: filelock<4,>=3.5 in c:\\users\\banga\\anaconda3\\lib\\site-packages (from snowflake-connector-python<4.0.0,>=3.10.0->snowflake-snowpark-python[pandas]) (3.9.0)\n",
      "Requirement already satisfied: sortedcontainers>=2.4.0 in c:\\users\\banga\\anaconda3\\lib\\site-packages (from snowflake-connector-python<4.0.0,>=3.10.0->snowflake-snowpark-python[pandas]) (2.4.0)\n",
      "Collecting platformdirs<5.0.0,>=2.6.0 (from snowflake-connector-python<4.0.0,>=3.10.0->snowflake-snowpark-python[pandas])\n",
      "  Downloading platformdirs-4.3.6-py3-none-any.whl (18 kB)\n",
      "Requirement already satisfied: tomlkit in c:\\users\\banga\\anaconda3\\lib\\site-packages (from snowflake-connector-python<4.0.0,>=3.10.0->snowflake-snowpark-python[pandas]) (0.11.1)\n",
      "Requirement already satisfied: pandas<3.0.0,>=1.0.0 in c:\\users\\banga\\anaconda3\\lib\\site-packages (from snowflake-connector-python<4.0.0,>=3.10.0->snowflake-snowpark-python[pandas]) (1.5.3)\n",
      "Requirement already satisfied: pyarrow in c:\\users\\banga\\anaconda3\\lib\\site-packages (from snowflake-connector-python<4.0.0,>=3.10.0->snowflake-snowpark-python[pandas]) (11.0.0)\n",
      "Requirement already satisfied: pycparser in c:\\users\\banga\\anaconda3\\lib\\site-packages (from cffi<2.0.0,>=1.9->snowflake-connector-python<4.0.0,>=3.10.0->snowflake-snowpark-python[pandas]) (2.21)\n",
      "Requirement already satisfied: python-dateutil>=2.8.1 in c:\\users\\banga\\anaconda3\\lib\\site-packages (from pandas<3.0.0,>=1.0.0->snowflake-connector-python<4.0.0,>=3.10.0->snowflake-snowpark-python[pandas]) (2.8.2)\n",
      "Requirement already satisfied: numpy>=1.21.0 in c:\\users\\banga\\anaconda3\\lib\\site-packages (from pandas<3.0.0,>=1.0.0->snowflake-connector-python<4.0.0,>=3.10.0->snowflake-snowpark-python[pandas]) (1.24.3)\n",
      "Requirement already satisfied: urllib3<1.27,>=1.21.1 in c:\\users\\banga\\anaconda3\\lib\\site-packages (from requests<3.0.0->snowflake-connector-python<4.0.0,>=3.10.0->snowflake-snowpark-python[pandas]) (1.26.16)\n",
      "Requirement already satisfied: six>=1.5 in c:\\users\\banga\\anaconda3\\lib\\site-packages (from python-dateutil>=2.8.1->pandas<3.0.0,>=1.0.0->snowflake-connector-python<4.0.0,>=3.10.0->snowflake-snowpark-python[pandas]) (1.16.0)\n",
      "Installing collected packages: asn1crypto, platformdirs, snowflake-connector-python, snowflake-snowpark-python\n",
      "  Attempting uninstall: platformdirs\n",
      "    Found existing installation: platformdirs 2.5.2\n",
      "    Uninstalling platformdirs-2.5.2:\n",
      "      Successfully uninstalled platformdirs-2.5.2\n",
      "Successfully installed asn1crypto-1.5.1 platformdirs-4.3.6 snowflake-connector-python-3.12.2 snowflake-snowpark-python-1.22.1\n",
      "Note: you may need to restart the kernel to use updated packages.\n"
     ]
    },
    {
     "name": "stderr",
     "output_type": "stream",
     "text": [
      "ERROR: pip's dependency resolver does not currently take into account all the packages that are installed. This behaviour is the source of the following dependency conflicts.\n",
      "python-lsp-black 1.2.1 requires black>=22.3.0, but you have black 0.0 which is incompatible.\n"
     ]
    }
   ],
   "source": [
    "pip install \"snowflake-snowpark-python[pandas]\"\n"
   ]
  },
  {
   "cell_type": "code",
   "execution_count": 4,
   "id": "698674a3",
   "metadata": {},
   "outputs": [
    {
     "name": "stdout",
     "output_type": "stream",
     "text": [
      "[Row(PRODUCTKEY=310, ORDERDATE='27/12/2016', DUEDATE='08/01/2017', SHIPDATE='03/01/2017', CUSTOMERKEY=21768, PROMOTIONKEY=1, SALESTERRITORYCOUNTRY='Canada', SALESTERRITORYGROUP='North America', SALESORDERNUMBER='SO43697', SALESORDERLINENUMBER=1, UNITPRICE=Decimal('3578.2700'), PRODUCTSTANDARDCOST=Decimal('2171.2942'), SALESAMOUNT=Decimal('3578.2700'), TAXAMT=Decimal('286.2616')), Row(PRODUCTKEY=346, ORDERDATE='27/12/2016', DUEDATE='08/01/2017', SHIPDATE='03/01/2017', CUSTOMERKEY=28389, PROMOTIONKEY=1, SALESTERRITORYCOUNTRY='France', SALESTERRITORYGROUP='Europe', SALESORDERNUMBER='SO43698', SALESORDERLINENUMBER=1, UNITPRICE=Decimal('3399.9900'), PRODUCTSTANDARDCOST=Decimal('1912.1544'), SALESAMOUNT=Decimal('3399.9900'), TAXAMT=Decimal('271.9992')), Row(PRODUCTKEY=346, ORDERDATE='27/12/2016', DUEDATE='08/01/2017', SHIPDATE='03/01/2017', CUSTOMERKEY=25863, PROMOTIONKEY=1, SALESTERRITORYCOUNTRY='United States', SALESTERRITORYGROUP='North America', SALESORDERNUMBER='SO43699', SALESORDERLINENUMBER=1, UNITPRICE=Decimal('3399.9900'), PRODUCTSTANDARDCOST=Decimal('1912.1544'), SALESAMOUNT=Decimal('3399.9900'), TAXAMT=Decimal('271.9992')), Row(PRODUCTKEY=336, ORDERDATE='27/12/2016', DUEDATE='08/01/2017', SHIPDATE='03/01/2017', CUSTOMERKEY=14501, PROMOTIONKEY=1, SALESTERRITORYCOUNTRY='United States', SALESTERRITORYGROUP='North America', SALESORDERNUMBER='SO43700', SALESORDERLINENUMBER=1, UNITPRICE=Decimal('699.0982'), PRODUCTSTANDARDCOST=Decimal('413.1463'), SALESAMOUNT=Decimal('699.0982'), TAXAMT=Decimal('55.9279')), Row(PRODUCTKEY=346, ORDERDATE='27/12/2016', DUEDATE='08/01/2017', SHIPDATE='03/01/2017', CUSTOMERKEY=11003, PROMOTIONKEY=1, SALESTERRITORYCOUNTRY='Australia', SALESTERRITORYGROUP='Pacific', SALESORDERNUMBER='SO43701', SALESORDERLINENUMBER=1, UNITPRICE=Decimal('3399.9900'), PRODUCTSTANDARDCOST=Decimal('1912.1544'), SALESAMOUNT=Decimal('3399.9900'), TAXAMT=Decimal('271.9992')), Row(PRODUCTKEY=311, ORDERDATE='28/12/2016', DUEDATE='09/01/2017', SHIPDATE='04/01/2017', CUSTOMERKEY=27645, PROMOTIONKEY=1, SALESTERRITORYCOUNTRY='United States', SALESTERRITORYGROUP='North America', SALESORDERNUMBER='SO43702', SALESORDERLINENUMBER=1, UNITPRICE=Decimal('3578.2700'), PRODUCTSTANDARDCOST=Decimal('2171.2942'), SALESAMOUNT=Decimal('3578.2700'), TAXAMT=Decimal('286.2616')), Row(PRODUCTKEY=310, ORDERDATE='28/12/2016', DUEDATE='09/01/2017', SHIPDATE='04/01/2017', CUSTOMERKEY=16624, PROMOTIONKEY=1, SALESTERRITORYCOUNTRY='Australia', SALESTERRITORYGROUP='Pacific', SALESORDERNUMBER='SO43703', SALESORDERLINENUMBER=1, UNITPRICE=Decimal('3578.2700'), PRODUCTSTANDARDCOST=Decimal('2171.2942'), SALESAMOUNT=Decimal('3578.2700'), TAXAMT=Decimal('286.2616')), Row(PRODUCTKEY=351, ORDERDATE='28/12/2016', DUEDATE='09/01/2017', SHIPDATE='04/01/2017', CUSTOMERKEY=11005, PROMOTIONKEY=1, SALESTERRITORYCOUNTRY='Australia', SALESTERRITORYGROUP='Pacific', SALESORDERNUMBER='SO43704', SALESORDERLINENUMBER=1, UNITPRICE=Decimal('3374.9900'), PRODUCTSTANDARDCOST=Decimal('1898.0944'), SALESAMOUNT=Decimal('3374.9900'), TAXAMT=Decimal('269.9992')), Row(PRODUCTKEY=344, ORDERDATE='28/12/2016', DUEDATE='09/01/2017', SHIPDATE='04/01/2017', CUSTOMERKEY=11011, PROMOTIONKEY=1, SALESTERRITORYCOUNTRY='Australia', SALESTERRITORYGROUP='Pacific', SALESORDERNUMBER='SO43705', SALESORDERLINENUMBER=1, UNITPRICE=Decimal('3399.9900'), PRODUCTSTANDARDCOST=Decimal('1912.1544'), SALESAMOUNT=Decimal('3399.9900'), TAXAMT=Decimal('271.9992')), Row(PRODUCTKEY=312, ORDERDATE='29/12/2016', DUEDATE='10/01/2017', SHIPDATE='05/01/2017', CUSTOMERKEY=27621, PROMOTIONKEY=1, SALESTERRITORYCOUNTRY='United States', SALESTERRITORYGROUP='North America', SALESORDERNUMBER='SO43706', SALESORDERLINENUMBER=1, UNITPRICE=Decimal('3578.2700'), PRODUCTSTANDARDCOST=Decimal('2171.2942'), SALESAMOUNT=Decimal('3578.2700'), TAXAMT=Decimal('286.2616'))]\n"
     ]
    }
   ],
   "source": [
    "from snowflake.snowpark import Session\n",
    "\n",
    "# Define your connection details\n",
    "connection_parameters = {\n",
    "    \"account\": \"dfubbbq-kwb90249\",  # Remove the extra snowflakecomputing.com\n",
    "    \"user\": \"bangale0824\",  \n",
    "    \"password\": \"DiwAli@#2023\",  \n",
    "    \"role\": \"ACCOUNTADMIN\",  \n",
    "    \"warehouse\": \"COMPUTE_WH\",  \n",
    "    \"database\": \"BESTBIKEEVER\",  \n",
    "    \"schema\": \"Products\"  \n",
    "}\n",
    "\n",
    "# Create a Snowpark session\n",
    "session = Session.builder.configs(connection_parameters).create()\n",
    "\n",
    "# Run a test query\n",
    "df = session.sql(\"SELECT * FROM BESTBIKEEVER.Products.Orders LIMIT 10\").collect()\n",
    "print(df)\n"
   ]
  },
  {
   "cell_type": "code",
   "execution_count": 5,
   "id": "fd1f85be",
   "metadata": {},
   "outputs": [
    {
     "name": "stdout",
     "output_type": "stream",
     "text": [
      "[Row(PRODUCTKEY=310, ORDERDATE='27/12/2016', DUEDATE='08/01/2017', SHIPDATE='03/01/2017', CUSTOMERKEY=21768, PROMOTIONKEY=1, SALESTERRITORYCOUNTRY='Canada', SALESTERRITORYGROUP='North America', SALESORDERNUMBER='SO43697', SALESORDERLINENUMBER=1, UNITPRICE=Decimal('3578.2700'), PRODUCTSTANDARDCOST=Decimal('2171.2942'), SALESAMOUNT=Decimal('3578.2700'), TAXAMT=Decimal('286.2616')), Row(PRODUCTKEY=346, ORDERDATE='27/12/2016', DUEDATE='08/01/2017', SHIPDATE='03/01/2017', CUSTOMERKEY=28389, PROMOTIONKEY=1, SALESTERRITORYCOUNTRY='France', SALESTERRITORYGROUP='Europe', SALESORDERNUMBER='SO43698', SALESORDERLINENUMBER=1, UNITPRICE=Decimal('3399.9900'), PRODUCTSTANDARDCOST=Decimal('1912.1544'), SALESAMOUNT=Decimal('3399.9900'), TAXAMT=Decimal('271.9992')), Row(PRODUCTKEY=346, ORDERDATE='27/12/2016', DUEDATE='08/01/2017', SHIPDATE='03/01/2017', CUSTOMERKEY=25863, PROMOTIONKEY=1, SALESTERRITORYCOUNTRY='United States', SALESTERRITORYGROUP='North America', SALESORDERNUMBER='SO43699', SALESORDERLINENUMBER=1, UNITPRICE=Decimal('3399.9900'), PRODUCTSTANDARDCOST=Decimal('1912.1544'), SALESAMOUNT=Decimal('3399.9900'), TAXAMT=Decimal('271.9992')), Row(PRODUCTKEY=336, ORDERDATE='27/12/2016', DUEDATE='08/01/2017', SHIPDATE='03/01/2017', CUSTOMERKEY=14501, PROMOTIONKEY=1, SALESTERRITORYCOUNTRY='United States', SALESTERRITORYGROUP='North America', SALESORDERNUMBER='SO43700', SALESORDERLINENUMBER=1, UNITPRICE=Decimal('699.0982'), PRODUCTSTANDARDCOST=Decimal('413.1463'), SALESAMOUNT=Decimal('699.0982'), TAXAMT=Decimal('55.9279')), Row(PRODUCTKEY=346, ORDERDATE='27/12/2016', DUEDATE='08/01/2017', SHIPDATE='03/01/2017', CUSTOMERKEY=11003, PROMOTIONKEY=1, SALESTERRITORYCOUNTRY='Australia', SALESTERRITORYGROUP='Pacific', SALESORDERNUMBER='SO43701', SALESORDERLINENUMBER=1, UNITPRICE=Decimal('3399.9900'), PRODUCTSTANDARDCOST=Decimal('1912.1544'), SALESAMOUNT=Decimal('3399.9900'), TAXAMT=Decimal('271.9992')), Row(PRODUCTKEY=311, ORDERDATE='28/12/2016', DUEDATE='09/01/2017', SHIPDATE='04/01/2017', CUSTOMERKEY=27645, PROMOTIONKEY=1, SALESTERRITORYCOUNTRY='United States', SALESTERRITORYGROUP='North America', SALESORDERNUMBER='SO43702', SALESORDERLINENUMBER=1, UNITPRICE=Decimal('3578.2700'), PRODUCTSTANDARDCOST=Decimal('2171.2942'), SALESAMOUNT=Decimal('3578.2700'), TAXAMT=Decimal('286.2616')), Row(PRODUCTKEY=310, ORDERDATE='28/12/2016', DUEDATE='09/01/2017', SHIPDATE='04/01/2017', CUSTOMERKEY=16624, PROMOTIONKEY=1, SALESTERRITORYCOUNTRY='Australia', SALESTERRITORYGROUP='Pacific', SALESORDERNUMBER='SO43703', SALESORDERLINENUMBER=1, UNITPRICE=Decimal('3578.2700'), PRODUCTSTANDARDCOST=Decimal('2171.2942'), SALESAMOUNT=Decimal('3578.2700'), TAXAMT=Decimal('286.2616')), Row(PRODUCTKEY=351, ORDERDATE='28/12/2016', DUEDATE='09/01/2017', SHIPDATE='04/01/2017', CUSTOMERKEY=11005, PROMOTIONKEY=1, SALESTERRITORYCOUNTRY='Australia', SALESTERRITORYGROUP='Pacific', SALESORDERNUMBER='SO43704', SALESORDERLINENUMBER=1, UNITPRICE=Decimal('3374.9900'), PRODUCTSTANDARDCOST=Decimal('1898.0944'), SALESAMOUNT=Decimal('3374.9900'), TAXAMT=Decimal('269.9992')), Row(PRODUCTKEY=344, ORDERDATE='28/12/2016', DUEDATE='09/01/2017', SHIPDATE='04/01/2017', CUSTOMERKEY=11011, PROMOTIONKEY=1, SALESTERRITORYCOUNTRY='Australia', SALESTERRITORYGROUP='Pacific', SALESORDERNUMBER='SO43705', SALESORDERLINENUMBER=1, UNITPRICE=Decimal('3399.9900'), PRODUCTSTANDARDCOST=Decimal('1912.1544'), SALESAMOUNT=Decimal('3399.9900'), TAXAMT=Decimal('271.9992')), Row(PRODUCTKEY=312, ORDERDATE='29/12/2016', DUEDATE='10/01/2017', SHIPDATE='05/01/2017', CUSTOMERKEY=27621, PROMOTIONKEY=1, SALESTERRITORYCOUNTRY='United States', SALESTERRITORYGROUP='North America', SALESORDERNUMBER='SO43706', SALESORDERLINENUMBER=1, UNITPRICE=Decimal('3578.2700'), PRODUCTSTANDARDCOST=Decimal('2171.2942'), SALESAMOUNT=Decimal('3578.2700'), TAXAMT=Decimal('286.2616'))]\n"
     ]
    }
   ],
   "source": [
    "df = session.sql(\"SELECT * FROM BESTBIKEEVER.Products.Orders LIMIT 10\").collect()\n",
    "print(df)\n"
   ]
  },
  {
   "cell_type": "code",
   "execution_count": 9,
   "id": "a0b4513f",
   "metadata": {},
   "outputs": [
    {
     "name": "stdout",
     "output_type": "stream",
     "text": [
      "   PRODUCTKEY   ORDERDATE     DUEDATE    SHIPDATE  CUSTOMERKEY  PROMOTIONKEY  \\\n",
      "0         310  27/12/2016  08/01/2017  03/01/2017        21768             1   \n",
      "1         346  27/12/2016  08/01/2017  03/01/2017        28389             1   \n",
      "2         346  27/12/2016  08/01/2017  03/01/2017        25863             1   \n",
      "3         336  27/12/2016  08/01/2017  03/01/2017        14501             1   \n",
      "4         346  27/12/2016  08/01/2017  03/01/2017        11003             1   \n",
      "\n",
      "  SALESTERRITORYCOUNTRY SALESTERRITORYGROUP SALESORDERNUMBER  \\\n",
      "0                Canada       North America          SO43697   \n",
      "1                France              Europe          SO43698   \n",
      "2         United States       North America          SO43699   \n",
      "3         United States       North America          SO43700   \n",
      "4             Australia             Pacific          SO43701   \n",
      "\n",
      "   SALESORDERLINENUMBER  UNITPRICE  PRODUCTSTANDARDCOST  SALESAMOUNT    TAXAMT  \n",
      "0                     1  3578.2700            2171.2942    3578.2700  286.2616  \n",
      "1                     1  3399.9900            1912.1544    3399.9900  271.9992  \n",
      "2                     1  3399.9900            1912.1544    3399.9900  271.9992  \n",
      "3                     1   699.0982             413.1463     699.0982   55.9279  \n",
      "4                     1  3399.9900            1912.1544    3399.9900  271.9992  \n"
     ]
    }
   ],
   "source": [
    "# Assuming you already have a Snowpark session established (session)\n",
    "# Run a query and load the result into a Snowpark DataFrame\n",
    "snow_df = session.sql(\"SELECT * FROM BESTBIKEEVER.Products.Orders\")\n",
    "\n",
    "# Convert Snowpark DataFrame to Pandas DataFrame\n",
    "pandas_df = snow_df.to_pandas()\n",
    "\n",
    "# Display the Pandas DataFrame\n",
    "print(pandas_df.head())\n"
   ]
  },
  {
   "cell_type": "code",
   "execution_count": 10,
   "id": "4337c6a2",
   "metadata": {},
   "outputs": [
    {
     "name": "stdout",
     "output_type": "stream",
     "text": [
      "PRODUCTKEY               0\n",
      "ORDERDATE                0\n",
      "DUEDATE                  0\n",
      "SHIPDATE                 0\n",
      "CUSTOMERKEY              0\n",
      "PROMOTIONKEY             0\n",
      "SALESTERRITORYCOUNTRY    0\n",
      "SALESTERRITORYGROUP      0\n",
      "SALESORDERNUMBER         0\n",
      "SALESORDERLINENUMBER     0\n",
      "UNITPRICE                0\n",
      "PRODUCTSTANDARDCOST      0\n",
      "SALESAMOUNT              0\n",
      "TAXAMT                   0\n",
      "dtype: int64\n"
     ]
    }
   ],
   "source": [
    "# Check for missing values\n",
    "print(pandas_df.isnull().sum())\n"
   ]
  },
  {
   "cell_type": "code",
   "execution_count": 22,
   "id": "822fb0ca",
   "metadata": {},
   "outputs": [
    {
     "name": "stdout",
     "output_type": "stream",
     "text": [
      "   DaysToShip  OrderDuration  SalesTaxPercentage  Discount  ShippingEfficiency\n",
      "0           7             12            8.000000       0.0            0.583333\n",
      "1           7             12            8.000000       0.0            0.583333\n",
      "2           7             12            8.000000       0.0            0.583333\n",
      "3           7             12            8.000006       0.0            0.583333\n",
      "4           7             12            8.000000       0.0            0.583333\n"
     ]
    }
   ],
   "source": [
    "# Import necessary libraries\n",
    "import pandas as pd\n",
    "from sklearn.model_selection import train_test_split\n",
    "from sklearn.linear_model import LinearRegression\n",
    "from sklearn.metrics import mean_squared_error, r2_score\n",
    "\n",
    "# Ensure both ORDERDATE and SHIPDATE are in datetime format\n",
    "pandas_df['ORDERDATE'] = pd.to_datetime(pandas_df['ORDERDATE'], format='%d/%m/%Y')\n",
    "pandas_df['SHIPDATE'] = pd.to_datetime(pandas_df['SHIPDATE'], format='%d/%m/%Y')\n",
    "\n",
    "# 1. Create DaysToShip feature\n",
    "pandas_df['DaysToShip'] = (pandas_df['SHIPDATE'] - pandas_df['ORDERDATE']).dt.days\n",
    "\n",
    "# 2. Create OrderDuration feature\n",
    "pandas_df['DUEDATE'] = pd.to_datetime(pandas_df['DUEDATE'], format='%d/%m/%Y')\n",
    "pandas_df['OrderDuration'] = (pandas_df['DUEDATE'] - pandas_df['ORDERDATE']).dt.days\n",
    "\n",
    "# 3. Create SalesTaxPercentage feature\n",
    "pandas_df['SalesTaxPercentage'] = (pandas_df['TAXAMT'] / pandas_df['SALESAMOUNT']) * 100\n",
    "\n",
    "# 4. Create Discount feature\n",
    "pandas_df['Discount'] = 100 * (1 - pandas_df['SALESAMOUNT'] / (pandas_df['UNITPRICE'] * pandas_df['SALESORDERLINENUMBER']))\n",
    "\n",
    "# 5. Create ShippingEfficiency feature\n",
    "# Avoid division by zero by filtering out rows where OrderDuration is 0\n",
    "pandas_df['ShippingEfficiency'] = pandas_df['DaysToShip'] / pandas_df['OrderDuration']\n",
    "pandas_df['ShippingEfficiency'].fillna(0, inplace=True)  # Fill NaN values where OrderDuration is 0\n",
    "\n",
    "# Check the DataFrame to ensure all features were created\n",
    "print(pandas_df[['DaysToShip', 'OrderDuration', 'SalesTaxPercentage', 'Discount', 'ShippingEfficiency']].head())\n"
   ]
  },
  {
   "cell_type": "code",
   "execution_count": 30,
   "id": "023a877c",
   "metadata": {},
   "outputs": [
    {
     "name": "stdout",
     "output_type": "stream",
     "text": [
      "Mean Squared Error with PRODUCTSTANDARDCOST: 4.6834206578266975e-09\n",
      "R-squared with PRODUCTSTANDARDCOST: 0.9999999999999946\n"
     ]
    }
   ],
   "source": [
    "# Adding PRODUCTSTANDARDCOST back into the model\n",
    "X_reduced = pandas_df[['PRODUCTSTANDARDCOST', 'PROMOTIONKEY', 'CUSTOMERKEY','TAXAMT']]\n",
    "\n",
    "# Target: Still predicting 'SALESAMOUNT'\n",
    "y = pandas_df['SALESAMOUNT']\n",
    "\n",
    "# Split the data into training and testing sets\n",
    "X_train, X_test, y_train, y_test = train_test_split(X_reduced, y, test_size=0.2, random_state=42)\n",
    "\n",
    "# Train the model\n",
    "model.fit(X_train, y_train)\n",
    "\n",
    "# Make predictions and evaluate\n",
    "y_pred = model.predict(X_test)\n",
    "mse = mean_squared_error(y_test, y_pred)\n",
    "r2 = r2_score(y_test, y_pred)\n",
    "\n",
    "# Print new evaluation metrics\n",
    "print(f'Mean Squared Error with PRODUCTSTANDARDCOST: {mse}')\n",
    "print(f'R-squared with PRODUCTSTANDARDCOST: {r2}')\n"
   ]
  },
  {
   "cell_type": "code",
   "execution_count": 27,
   "id": "f840cbb7",
   "metadata": {},
   "outputs": [
    {
     "name": "stdout",
     "output_type": "stream",
     "text": [
      "                     UNITPRICE  PRODUCTSTANDARDCOST    TAXAMT  PROMOTIONKEY  \\\n",
      "UNITPRICE             1.000000             0.997845  1.000000      0.070681   \n",
      "PRODUCTSTANDARDCOST   0.997845             1.000000  0.997845      0.068746   \n",
      "TAXAMT                1.000000             0.997845  1.000000      0.070681   \n",
      "PROMOTIONKEY          0.070681             0.068746  0.070681      1.000000   \n",
      "CUSTOMERKEY          -0.035415            -0.023599 -0.035415      0.014025   \n",
      "SALESAMOUNT           1.000000             0.997845  1.000000      0.070681   \n",
      "\n",
      "                     CUSTOMERKEY  SALESAMOUNT  \n",
      "UNITPRICE              -0.035415     1.000000  \n",
      "PRODUCTSTANDARDCOST    -0.023599     0.997845  \n",
      "TAXAMT                 -0.035415     1.000000  \n",
      "PROMOTIONKEY            0.014025     0.070681  \n",
      "CUSTOMERKEY             1.000000    -0.035415  \n",
      "SALESAMOUNT            -0.035415     1.000000  \n"
     ]
    }
   ],
   "source": [
    "# Check the correlation between features and the target\n",
    "corr_matrix = pandas_df[['UNITPRICE', 'PRODUCTSTANDARDCOST', 'TAXAMT', 'PROMOTIONKEY', 'CUSTOMERKEY', 'SALESAMOUNT']].corr()\n",
    "\n",
    "# Display the correlation matrix\n",
    "print(corr_matrix)\n"
   ]
  }
 ],
 "metadata": {
  "kernelspec": {
   "display_name": "Python 3 (ipykernel)",
   "language": "python",
   "name": "python3"
  },
  "language_info": {
   "codemirror_mode": {
    "name": "ipython",
    "version": 3
   },
   "file_extension": ".py",
   "mimetype": "text/x-python",
   "name": "python",
   "nbconvert_exporter": "python",
   "pygments_lexer": "ipython3",
   "version": "3.11.3"
  }
 },
 "nbformat": 4,
 "nbformat_minor": 5
}
